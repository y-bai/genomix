{
 "cells": [
  {
   "cell_type": "markdown",
   "metadata": {},
   "source": [
    "# Demo and test tokenizatoin"
   ]
  },
  {
   "cell_type": "markdown",
   "metadata": {},
   "source": [
    "## BPE tokenization\n",
    "\n",
    "### Test token update "
   ]
  },
  {
   "cell_type": "code",
   "execution_count": 5,
   "metadata": {},
   "outputs": [
    {
     "name": "stdout",
     "output_type": "stream",
     "text": [
      "*args: ('input_dir_path', 'output_dir_path')\n",
      "Updating vocab for tokenizer type: BPE\n",
      "BPE vocab update called\n",
      "*args: ('input_dir_path', 'output_dir_path')\n",
      "Updating vocab for tokenizer type: UNIGRAM\n",
      "Unigram vocab update called\n",
      "*args: ('input_dir_path', 'output_dir_path')\n",
      "Updating vocab for tokenizer type: SPM\n",
      "SPM vocab update called\n"
     ]
    }
   ],
   "source": []
  },
  {
   "cell_type": "code",
   "execution_count": null,
   "metadata": {},
   "outputs": [],
   "source": []
  }
 ],
 "metadata": {
  "kernelspec": {
   "display_name": "py10",
   "language": "python",
   "name": "python3"
  },
  "language_info": {
   "codemirror_mode": {
    "name": "ipython",
    "version": 3
   },
   "file_extension": ".py",
   "mimetype": "text/x-python",
   "name": "python",
   "nbconvert_exporter": "python",
   "pygments_lexer": "ipython3",
   "version": "3.10.15"
  }
 },
 "nbformat": 4,
 "nbformat_minor": 2
}
