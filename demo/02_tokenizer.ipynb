{
 "cells": [
  {
   "cell_type": "markdown",
   "metadata": {},
   "source": [
    "# Tokenizer"
   ]
  },
  {
   "cell_type": "code",
   "execution_count": 1,
   "metadata": {},
   "outputs": [],
   "source": [
    "import sys\n",
    "\n",
    "sys.path.append('..')\n",
    "\n",
    "from genomix.utils import SPECIAL_TOKENS"
   ]
  },
  {
   "cell_type": "markdown",
   "metadata": {},
   "source": [
    "## BPE tokenizer"
   ]
  },
  {
   "cell_type": "code",
   "execution_count": 2,
   "metadata": {},
   "outputs": [],
   "source": [
    "input_sequence = ['CACCCTAAACCCTAACCCCTAACCCTAACCCTAACCCTAACCCTAACCCTAACCCCTAAACCCT', 'ACCCTCACCCTCACCCTCACCCTCACCCTCACCCTCACCCTCACCCTAACCCTAACCCTAACCC']"
   ]
  },
  {
   "cell_type": "markdown",
   "metadata": {},
   "source": [
    "### BioSeqUnigramTokenizer\n",
    "\n",
    "slow version of BPE tokenizer"
   ]
  },
  {
   "cell_type": "code",
   "execution_count": 3,
   "metadata": {},
   "outputs": [
    {
     "name": "stderr",
     "output_type": "stream",
     "text": [
      "<jemalloc>: Unsupported system page size\n"
     ]
    },
    {
     "ename": "ImportError",
     "evalue": "cannot import name 'verify_exist' from 'genomix.utils' (/home/share/huadjyin/home/baiyong01/projects/genomix/demo/../genomix/utils/__init__.py)",
     "output_type": "error",
     "traceback": [
      "\u001b[0;31m---------------------------------------------------------------------------\u001b[0m",
      "\u001b[0;31mImportError\u001b[0m                               Traceback (most recent call last)",
      "Cell \u001b[0;32mIn[3], line 1\u001b[0m\n\u001b[0;32m----> 1\u001b[0m \u001b[38;5;28;01mfrom\u001b[39;00m \u001b[38;5;21;01mgenomix\u001b[39;00m\u001b[38;5;21;01m.\u001b[39;00m\u001b[38;5;21;01mtokenizers\u001b[39;00m \u001b[38;5;28;01mimport\u001b[39;00m BioSeqBPETokenizer\n\u001b[1;32m      3\u001b[0m tokenizer_kwargs \u001b[38;5;241m=\u001b[39m {\n\u001b[1;32m      4\u001b[0m         \u001b[38;5;124m\"\u001b[39m\u001b[38;5;124mbos_token\u001b[39m\u001b[38;5;124m\"\u001b[39m: SPECIAL_TOKENS\u001b[38;5;241m.\u001b[39mBOS\u001b[38;5;241m.\u001b[39mvalue,\n\u001b[1;32m      5\u001b[0m         \u001b[38;5;124m\"\u001b[39m\u001b[38;5;124meos_token\u001b[39m\u001b[38;5;124m\"\u001b[39m: SPECIAL_TOKENS\u001b[38;5;241m.\u001b[39mEOS\u001b[38;5;241m.\u001b[39mvalue,\n\u001b[0;32m   (...)\u001b[0m\n\u001b[1;32m     13\u001b[0m         \u001b[38;5;66;03m# \"model_max_length\": 6  # This should be set when do tokenization, not in __init__\u001b[39;00m\n\u001b[1;32m     14\u001b[0m     }\n\u001b[1;32m     16\u001b[0m \u001b[38;5;66;03m# we use the shrinked vocabulary for the tokenizer\u001b[39;00m\n",
      "File \u001b[0;32m~/projects/genomix/demo/../genomix/tokenizers/__init__.py:36\u001b[0m\n\u001b[1;32m     34\u001b[0m \u001b[38;5;28;01mfrom\u001b[39;00m \u001b[38;5;21;01m.\u001b[39;00m\u001b[38;5;21;01m_bpe_tokenizer\u001b[39;00m \u001b[38;5;28;01mimport\u001b[39;00m BioSeqBaseBPETokenizer, BioSeqBPETokenizer\n\u001b[1;32m     35\u001b[0m \u001b[38;5;28;01mfrom\u001b[39;00m \u001b[38;5;21;01m.\u001b[39;00m\u001b[38;5;21;01m_bpe_tokenizer_fast\u001b[39;00m \u001b[38;5;28;01mimport\u001b[39;00m BioSeqBPETokenizerFast\n\u001b[0;32m---> 36\u001b[0m \u001b[38;5;28;01mfrom\u001b[39;00m \u001b[38;5;21;01m.\u001b[39;00m\u001b[38;5;21;01m_unigram_tokenizer\u001b[39;00m \u001b[38;5;28;01mimport\u001b[39;00m BioSeqBaseUnigramTokenizer, BioSeqUnigramTokenizer\n\u001b[1;32m     37\u001b[0m \u001b[38;5;28;01mfrom\u001b[39;00m \u001b[38;5;21;01m.\u001b[39;00m\u001b[38;5;21;01m_unigram_tokenizer_fast\u001b[39;00m \u001b[38;5;28;01mimport\u001b[39;00m BioSeqUnigramTokenizerFast\n\u001b[1;32m     38\u001b[0m \u001b[38;5;28;01mfrom\u001b[39;00m \u001b[38;5;21;01m.\u001b[39;00m\u001b[38;5;21;01m_sentencepiece_tokenizer\u001b[39;00m \u001b[38;5;28;01mimport\u001b[39;00m BioSeqSPMTokenizer\n",
      "File \u001b[0;32m~/projects/genomix/demo/../genomix/tokenizers/_unigram_tokenizer.py:43\u001b[0m\n\u001b[1;32m     40\u001b[0m \u001b[38;5;28;01mfrom\u001b[39;00m \u001b[38;5;21;01mtransformers\u001b[39;00m\u001b[38;5;21;01m.\u001b[39;00m\u001b[38;5;21;01mutils\u001b[39;00m \u001b[38;5;28;01mimport\u001b[39;00m logging\n\u001b[1;32m     42\u001b[0m \u001b[38;5;28;01mfrom\u001b[39;00m \u001b[38;5;21;01m.\u001b[39;00m\u001b[38;5;21;01m_base_tokenizer\u001b[39;00m \u001b[38;5;28;01mimport\u001b[39;00m BaseTokenizer\n\u001b[0;32m---> 43\u001b[0m \u001b[38;5;28;01mfrom\u001b[39;00m \u001b[38;5;21;01m.\u001b[39;00m\u001b[38;5;21;01m.\u001b[39;00m\u001b[38;5;21;01mutils\u001b[39;00m \u001b[38;5;28;01mimport\u001b[39;00m verify_exist, read_json\n\u001b[1;32m     45\u001b[0m logger \u001b[38;5;241m=\u001b[39m logging\u001b[38;5;241m.\u001b[39mget_logger(\u001b[38;5;18m__name__\u001b[39m)\n\u001b[1;32m     48\u001b[0m \u001b[38;5;28;01mclass\u001b[39;00m \u001b[38;5;21;01mBioSeqBaseUnigramTokenizer\u001b[39;00m(BaseTokenizer):\n",
      "\u001b[0;31mImportError\u001b[0m: cannot import name 'verify_exist' from 'genomix.utils' (/home/share/huadjyin/home/baiyong01/projects/genomix/demo/../genomix/utils/__init__.py)"
     ]
    }
   ],
   "source": [
    "from genomix.tokenizers import BioSeqBPETokenizer\n",
    "\n",
    "tokenizer_kwargs = {\n",
    "        \"bos_token\": SPECIAL_TOKENS.BOS.value,\n",
    "        \"eos_token\": SPECIAL_TOKENS.EOS.value,\n",
    "        \"unk_token\": SPECIAL_TOKENS.UNK.value,\n",
    "        \"mask_token\": SPECIAL_TOKENS.MASK.value,\n",
    "        \"padding_side\": \"left\", # as a prediction next token model, the padding is done on the left\n",
    "        \"add_bos_token\": False,\n",
    "        \"add_eos_token\": False,\n",
    "        \"add_prefix_space\": False, \n",
    "        \"do_lower_case\": False,\n",
    "        # \"model_max_length\": 6  # This should be set when do tokenization, not in __init__\n",
    "    }\n",
    "\n",
    "# we use the shrinked vocabulary for the tokenizer\n",
    "vocab_dir = '/home/share/huadjyin/home/baiyong01/projects/genomix/tmp'\n",
    "\n",
    "tokenier = BioSeqBPETokenizer.from_pretrained(\n",
    "    vocab_dir, \n",
    "    local_files_only=True, \n",
    "    **tokenizer_kwargs)\n"
   ]
  },
  {
   "cell_type": "markdown",
   "metadata": {},
   "source": [
    "### BioSeqBPETokenizerFast\n",
    "\n",
    "fast version of BPE tokenizer"
   ]
  },
  {
   "cell_type": "code",
   "execution_count": null,
   "metadata": {},
   "outputs": [],
   "source": []
  },
  {
   "cell_type": "markdown",
   "metadata": {},
   "source": [
    "## Unigram tokenizer"
   ]
  },
  {
   "cell_type": "markdown",
   "metadata": {},
   "source": [
    "## SPM tokenizer"
   ]
  },
  {
   "cell_type": "code",
   "execution_count": null,
   "metadata": {},
   "outputs": [],
   "source": []
  }
 ],
 "metadata": {
  "kernelspec": {
   "display_name": "py10",
   "language": "python",
   "name": "python3"
  },
  "language_info": {
   "codemirror_mode": {
    "name": "ipython",
    "version": 3
   },
   "file_extension": ".py",
   "mimetype": "text/x-python",
   "name": "python",
   "nbconvert_exporter": "python",
   "pygments_lexer": "ipython3",
   "version": "3.10.15"
  }
 },
 "nbformat": 4,
 "nbformat_minor": 2
}
