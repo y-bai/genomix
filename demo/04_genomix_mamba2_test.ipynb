{
 "cells": [
  {
   "cell_type": "markdown",
   "metadata": {},
   "source": [
    "# GenoMix Mamba 2"
   ]
  },
  {
   "cell_type": "code",
   "execution_count": 1,
   "metadata": {},
   "outputs": [],
   "source": [
    "import sys\n",
    "\n",
    "from transformers import Mamba2Config\n",
    "import warnings\n",
    "warnings.simplefilter(action='ignore', category=FutureWarning)\n",
    "\n",
    "sys.path.append('..')\n",
    "\n",
    "from genomix.models.genomix_vallim2 import GenoMixMamba2Model, GenoMixMamba2ForCausalLM\n",
    "from genomix.models.genomix_config import GenoMixMamba2Config"
   ]
  },
  {
   "cell_type": "code",
   "execution_count": 2,
   "metadata": {},
   "outputs": [
    {
     "name": "stdout",
     "output_type": "stream",
     "text": [
      "GenoMixMamba2Config {\n",
      "  \"attn_cfg\": {\n",
      "    \"causal\": true,\n",
      "    \"d_conv\": 4,\n",
      "    \"head_dim\": 32,\n",
      "    \"num_heads\": 8,\n",
      "    \"out_proj_bias\": false,\n",
      "    \"qkv_proj_bias\": false,\n",
      "    \"rotary_emb_dim\": 32\n",
      "  },\n",
      "  \"attn_layer_idx\": [],\n",
      "  \"bos_token_id\": 0,\n",
      "  \"d_intermediate\": 0,\n",
      "  \"d_model\": 256,\n",
      "  \"eos_token_id\": 2,\n",
      "  \"fused_add_norm\": true,\n",
      "  \"initializer_cfg\": {\n",
      "    \"initializer_range\": 0.1,\n",
      "    \"rescale_prenorm_residual\": false\n",
      "  },\n",
      "  \"input_embedding_cfg\": {\n",
      "    \"fusion_type\": \"add\",\n",
      "    \"use_tabular_embedding\": false\n",
      "  },\n",
      "  \"model_type\": \"genomix-mamba2\",\n",
      "  \"moe_cfg\": null,\n",
      "  \"moe_layer_idx\": [],\n",
      "  \"n_layers\": 32,\n",
      "  \"norm_epsilon\": 1e-05,\n",
      "  \"pad_token_id\": 2,\n",
      "  \"pad_vocab_size_multiple\": 8,\n",
      "  \"residual_in_fp32\": true,\n",
      "  \"rms_norm\": true,\n",
      "  \"ssm_cfg\": {\n",
      "    \"A_init_range\": [\n",
      "      1,\n",
      "      16\n",
      "    ],\n",
      "    \"D_has_hdim\": false,\n",
      "    \"bias\": false,\n",
      "    \"chunk_size\": 256,\n",
      "    \"conv_bias\": true,\n",
      "    \"conv_init\": null,\n",
      "    \"d_conv\": 4,\n",
      "    \"d_ssm\": null,\n",
      "    \"d_state\": 64,\n",
      "    \"dt_init_floor\": 0.0001,\n",
      "    \"dt_limit\": [\n",
      "      0.0,\n",
      "      Infinity\n",
      "    ],\n",
      "    \"dt_max\": 0.1,\n",
      "    \"dt_min\": 0.001,\n",
      "    \"expand\": 2,\n",
      "    \"headdim\": 32,\n",
      "    \"ngroups\": 1,\n",
      "    \"norm_before_gate\": false,\n",
      "    \"process_group\": null,\n",
      "    \"rmsnorm\": true,\n",
      "    \"sequence_parallel\": true,\n",
      "    \"use_mem_eff_path\": true\n",
      "  },\n",
      "  \"transformers_version\": \"4.46.3\",\n",
      "  \"use_tabular_embedding\": false,\n",
      "  \"vocab_size\": 16\n",
      "}\n",
      "\n"
     ]
    }
   ],
   "source": [
    "config = GenoMixMamba2Config()\n",
    "d_model = config.d_model\n",
    "ssm_headdim = config.ssm_cfg['headdim']\n",
    "assert d_model / ssm_headdim % 8 == 0, f'd_model / ssm_headdim % 8 must be 0'\n",
    "\n",
    "attn_num_heads = config.attn_cfg['num_heads']\n",
    "config.attn_cfg['head_dim'] = d_model // attn_num_heads\n",
    "config.attn_cfg['rotary_emb_dim'] = d_model // attn_num_heads\n",
    "\n",
    "print(config)"
   ]
  },
  {
   "cell_type": "code",
   "execution_count": 3,
   "metadata": {},
   "outputs": [
    {
     "ename": "UnboundLocalError",
     "evalue": "local variable 'use_tabular_embedding' referenced before assignment",
     "output_type": "error",
     "traceback": [
      "\u001b[0;31m---------------------------------------------------------------------------\u001b[0m",
      "\u001b[0;31mUnboundLocalError\u001b[0m                         Traceback (most recent call last)",
      "Cell \u001b[0;32mIn[3], line 1\u001b[0m\n\u001b[0;32m----> 1\u001b[0m model \u001b[38;5;241m=\u001b[39m \u001b[43mGenoMixMamba2ForCausalLM\u001b[49m\u001b[43m(\u001b[49m\u001b[43mconfig\u001b[49m\u001b[43m)\u001b[49m\u001b[38;5;241m.\u001b[39mto(\u001b[38;5;124m'\u001b[39m\u001b[38;5;124mcuda\u001b[39m\u001b[38;5;124m'\u001b[39m)\n\u001b[1;32m      3\u001b[0m model\n",
      "File \u001b[0;32m~/projects/genomix/demo/../genomix/models/genomix_vallim2.py:341\u001b[0m, in \u001b[0;36mGenoMixMamba2ForCausalLM.__init__\u001b[0;34m(self, config, device, dtype)\u001b[0m\n\u001b[1;32m    337\u001b[0m     config\u001b[38;5;241m.\u001b[39mvocab_size \u001b[38;5;241m=\u001b[39m vocab_size\n\u001b[1;32m    339\u001b[0m \u001b[38;5;28msuper\u001b[39m()\u001b[38;5;241m.\u001b[39m\u001b[38;5;21m__init__\u001b[39m(config)\n\u001b[0;32m--> 341\u001b[0m \u001b[38;5;28mself\u001b[39m\u001b[38;5;241m.\u001b[39mbackbone \u001b[38;5;241m=\u001b[39m \u001b[43mGenoMixMamba2Model\u001b[49m\u001b[43m(\u001b[49m\u001b[43mconfig\u001b[49m\u001b[43m,\u001b[49m\u001b[43m \u001b[49m\u001b[38;5;241;43m*\u001b[39;49m\u001b[38;5;241;43m*\u001b[39;49m\u001b[43mfactory_kwargs\u001b[49m\u001b[43m)\u001b[49m\n\u001b[1;32m    342\u001b[0m \u001b[38;5;28mself\u001b[39m\u001b[38;5;241m.\u001b[39mlm_head \u001b[38;5;241m=\u001b[39m nn\u001b[38;5;241m.\u001b[39mLinear(d_model, vocab_size, bias\u001b[38;5;241m=\u001b[39m\u001b[38;5;28;01mFalse\u001b[39;00m, \u001b[38;5;241m*\u001b[39m\u001b[38;5;241m*\u001b[39mfactory_kwargs)\n\u001b[1;32m    344\u001b[0m \u001b[38;5;66;03m# Initialize weights and apply final processing\u001b[39;00m\n",
      "File \u001b[0;32m~/projects/genomix/demo/../genomix/models/genomix_vallim2.py:208\u001b[0m, in \u001b[0;36mGenoMixMamba2Model.__init__\u001b[0;34m(self, config, device, dtype)\u001b[0m\n\u001b[1;32m    201\u001b[0m \u001b[38;5;28;01mdef\u001b[39;00m \u001b[38;5;21m__init__\u001b[39m(\n\u001b[1;32m    202\u001b[0m     \u001b[38;5;28mself\u001b[39m, \n\u001b[1;32m    203\u001b[0m     config: GenoMixMamba2Config,\n\u001b[1;32m    204\u001b[0m     device\u001b[38;5;241m=\u001b[39m\u001b[38;5;28;01mNone\u001b[39;00m,\n\u001b[1;32m    205\u001b[0m     dtype\u001b[38;5;241m=\u001b[39m\u001b[38;5;28;01mNone\u001b[39;00m,\n\u001b[1;32m    206\u001b[0m ):\n\u001b[1;32m    207\u001b[0m     factory_kwargs \u001b[38;5;241m=\u001b[39m {\u001b[38;5;124m\"\u001b[39m\u001b[38;5;124mdevice\u001b[39m\u001b[38;5;124m\"\u001b[39m: device, \u001b[38;5;124m\"\u001b[39m\u001b[38;5;124mdtype\u001b[39m\u001b[38;5;124m\"\u001b[39m: dtype}\n\u001b[0;32m--> 208\u001b[0m     \u001b[38;5;28;01mif\u001b[39;00m \u001b[43muse_tabular_embedding\u001b[49m:\n\u001b[1;32m    209\u001b[0m         config\u001b[38;5;241m.\u001b[39mtie_word_embeddings \u001b[38;5;241m=\u001b[39m \u001b[38;5;28;01mFalse\u001b[39;00m\n\u001b[1;32m    210\u001b[0m     \u001b[38;5;28msuper\u001b[39m()\u001b[38;5;241m.\u001b[39m\u001b[38;5;21m__init__\u001b[39m(config)\n",
      "\u001b[0;31mUnboundLocalError\u001b[0m: local variable 'use_tabular_embedding' referenced before assignment"
     ]
    }
   ],
   "source": [
    "model = GenoMixMamba2ForCausalLM(config).to('cuda')\n",
    "\n",
    "model"
   ]
  },
  {
   "cell_type": "code",
   "execution_count": 4,
   "metadata": {},
   "outputs": [
    {
     "data": {
      "text/plain": [
       "GenomixMamba2(\n",
       "  (model): Mamba2ForCausalLM(\n",
       "    (backbone): Mamba2Model(\n",
       "      (embeddings): Embedding(16, 512)\n",
       "      (layers): ModuleList(\n",
       "        (0-63): 64 x Mamba2Block(\n",
       "          (norm): Mamba2RMSNorm()\n",
       "          (mixer): Mamba2Mixer(\n",
       "            (act): SiLU()\n",
       "            (conv1d): Conv1d(3072, 3072, kernel_size=(4,), stride=(1,), padding=(3,), groups=3072)\n",
       "            (in_proj): Linear(in_features=512, out_features=4104, bias=False)\n",
       "            (norm): MambaRMSNormGated()\n",
       "            (out_proj): Linear(in_features=1024, out_features=512, bias=False)\n",
       "          )\n",
       "        )\n",
       "      )\n",
       "      (norm_f): Mamba2RMSNorm()\n",
       "    )\n",
       "    (lm_head): Linear(in_features=512, out_features=16, bias=False)\n",
       "  )\n",
       ")"
      ]
     },
     "execution_count": 4,
     "metadata": {},
     "output_type": "execute_result"
    }
   ],
   "source": [
    "model"
   ]
  },
  {
   "cell_type": "code",
   "execution_count": 5,
   "metadata": {},
   "outputs": [
    {
     "name": "stdout",
     "output_type": "stream",
     "text": [
      "True\n"
     ]
    }
   ],
   "source": [
    "input_id1 = id(model.model.backbone.embeddings.weight)\n",
    "input_id2 = id(model.model.lm_head.weight)\n",
    "\n",
    "print(input_id1==input_id2)"
   ]
  },
  {
   "cell_type": "markdown",
   "metadata": {},
   "source": [
    "**NOTE**: if `safe_serialization=True` (default setting) in `model.save_pretrained`,\n",
    "There will raise error:\n",
    "\n",
    "```python\n",
    "RuntimeError: The weights trying to be saved contained shared tensors [{'model.lm_head.weight', 'model.backbone.embeddings.weight'}] that are mismatching the transformers base configuration. Try saving using `safe_serialization=False` or remove this tensor sharing.\n",
    "```"
   ]
  },
  {
   "cell_type": "code",
   "execution_count": 6,
   "metadata": {},
   "outputs": [
    {
     "name": "stdout",
     "output_type": "stream",
     "text": [
      "<class 'transformers.models.mamba2.configuration_mamba2.Mamba2Config'>\n"
     ]
    }
   ],
   "source": [
    "\n",
    "print(GenomixMamba2.config_class)\n",
    "# model.save_pretrained('/home/share/huadjyin/home/baiyong01/projects/genomix/tmp/models', safe_serialization=False)"
   ]
  },
  {
   "cell_type": "code",
   "execution_count": 7,
   "metadata": {},
   "outputs": [],
   "source": [
    "config = Mamba2Config.from_pretrained('/home/share/huadjyin/home/baiyong01/projects/genomix/tmp/models/config.json')"
   ]
  },
  {
   "cell_type": "code",
   "execution_count": 8,
   "metadata": {},
   "outputs": [
    {
     "data": {
      "text/plain": [
       "Mamba2Config {\n",
       "  \"_name_or_path\": \"genomix_mamba2\",\n",
       "  \"architectures\": [\n",
       "    \"GenomixMamba2\"\n",
       "  ],\n",
       "  \"bos_token_id\": 0,\n",
       "  \"chunk_size\": 256,\n",
       "  \"conv_kernel\": 4,\n",
       "  \"d_model\": 512,\n",
       "  \"eos_token_id\": 2,\n",
       "  \"expand\": 2,\n",
       "  \"head_dim\": 64,\n",
       "  \"hidden_act\": \"silu\",\n",
       "  \"hidden_size\": 512,\n",
       "  \"initializer_range\": 0.1,\n",
       "  \"intermediate_size\": 512,\n",
       "  \"layer_norm_epsilon\": 1e-05,\n",
       "  \"model_type\": \"mamba2\",\n",
       "  \"n_groups\": 8,\n",
       "  \"n_head\": 8,\n",
       "  \"n_layer\": 24,\n",
       "  \"num_heads\": 8,\n",
       "  \"num_hidden_layers\": 64,\n",
       "  \"num_layers\": 24,\n",
       "  \"pad_token_id\": 1,\n",
       "  \"rescale_prenorm_residual\": false,\n",
       "  \"residual_in_fp32\": true,\n",
       "  \"rms_norm\": true,\n",
       "  \"state_size\": 128,\n",
       "  \"tie_word_embeddings\": true,\n",
       "  \"time_step_floor\": 0.0001,\n",
       "  \"time_step_limit\": [\n",
       "    0.0,\n",
       "    Infinity\n",
       "  ],\n",
       "  \"time_step_max\": 0.1,\n",
       "  \"time_step_min\": 0.001,\n",
       "  \"time_step_rank\": 256,\n",
       "  \"torch_dtype\": \"float32\",\n",
       "  \"transformers_version\": \"4.46.3\",\n",
       "  \"use_bias\": false,\n",
       "  \"use_cache\": true,\n",
       "  \"use_conv_bias\": true,\n",
       "  \"vocab_size\": 16\n",
       "}"
      ]
     },
     "execution_count": 8,
     "metadata": {},
     "output_type": "execute_result"
    }
   ],
   "source": [
    "config"
   ]
  },
  {
   "cell_type": "code",
   "execution_count": 9,
   "metadata": {},
   "outputs": [],
   "source": [
    "model = GenomixMamba2.from_pretrained(\n",
    "    '/home/share/huadjyin/home/baiyong01/projects/genomix/tmp/models',local_files_only=True)"
   ]
  },
  {
   "cell_type": "code",
   "execution_count": 9,
   "metadata": {},
   "outputs": [
    {
     "data": {
      "text/plain": [
       "GenomixMamba2(\n",
       "  (model): Mamba2ForCausalLM(\n",
       "    (backbone): Mamba2Model(\n",
       "      (embeddings): Embedding(16, 512)\n",
       "      (layers): ModuleList(\n",
       "        (0-63): 64 x Mamba2Block(\n",
       "          (norm): Mamba2RMSNorm()\n",
       "          (mixer): Mamba2Mixer(\n",
       "            (act): SiLU()\n",
       "            (conv1d): Conv1d(3072, 3072, kernel_size=(4,), stride=(1,), padding=(3,), groups=3072)\n",
       "            (in_proj): Linear(in_features=512, out_features=4104, bias=False)\n",
       "            (norm): MambaRMSNormGated()\n",
       "            (out_proj): Linear(in_features=1024, out_features=512, bias=False)\n",
       "          )\n",
       "        )\n",
       "      )\n",
       "      (norm_f): Mamba2RMSNorm()\n",
       "    )\n",
       "    (lm_head): Linear(in_features=512, out_features=16, bias=False)\n",
       "  )\n",
       ")"
      ]
     },
     "execution_count": 9,
     "metadata": {},
     "output_type": "execute_result"
    }
   ],
   "source": [
    "model"
   ]
  },
  {
   "cell_type": "code",
   "execution_count": 13,
   "metadata": {},
   "outputs": [
    {
     "data": {
      "text/plain": [
       "torch.Size([16, 512])"
      ]
     },
     "execution_count": 13,
     "metadata": {},
     "output_type": "execute_result"
    }
   ],
   "source": [
    "model.model.backbone.embeddings.weight.shape"
   ]
  },
  {
   "cell_type": "code",
   "execution_count": 17,
   "metadata": {},
   "outputs": [
    {
     "data": {
      "text/plain": [
       "'model.backbone'"
      ]
     },
     "execution_count": 17,
     "metadata": {},
     "output_type": "execute_result"
    }
   ],
   "source": [
    "model.base_model_prefix"
   ]
  },
  {
   "cell_type": "code",
   "execution_count": 21,
   "metadata": {},
   "outputs": [
    {
     "data": {
      "text/plain": [
       "JetMoeConfig {\n",
       "  \"activation_function\": \"silu\",\n",
       "  \"attention_dropout\": 0.0,\n",
       "  \"aux_loss_coef\": 0.01,\n",
       "  \"bos_token_id\": 1,\n",
       "  \"eos_token_id\": 2,\n",
       "  \"hidden_size\": 2048,\n",
       "  \"initializer_range\": 0.01,\n",
       "  \"intermediate_size\": 5632,\n",
       "  \"kv_channels\": 128,\n",
       "  \"max_position_embeddings\": 4096,\n",
       "  \"model_type\": \"jetmoe\",\n",
       "  \"num_attention_heads\": 32,\n",
       "  \"num_experts_per_tok\": 2,\n",
       "  \"num_hidden_layers\": 12,\n",
       "  \"num_key_value_heads\": 16,\n",
       "  \"num_local_experts\": 8,\n",
       "  \"output_router_logits\": false,\n",
       "  \"rms_norm_eps\": 1e-06,\n",
       "  \"rope_theta\": 10000.0,\n",
       "  \"transformers_version\": \"4.46.3\",\n",
       "  \"use_cache\": true,\n",
       "  \"vocab_size\": 32000\n",
       "}"
      ]
     },
     "execution_count": 21,
     "metadata": {},
     "output_type": "execute_result"
    }
   ],
   "source": [
    "from transformers import JetMoeConfig\n",
    "\n",
    "jet_config = JetMoeConfig()\n",
    "jet_config"
   ]
  },
  {
   "cell_type": "code",
   "execution_count": null,
   "metadata": {},
   "outputs": [],
   "source": []
  }
 ],
 "metadata": {
  "kernelspec": {
   "display_name": "py10",
   "language": "python",
   "name": "python3"
  },
  "language_info": {
   "codemirror_mode": {
    "name": "ipython",
    "version": 3
   },
   "file_extension": ".py",
   "mimetype": "text/x-python",
   "name": "python",
   "nbconvert_exporter": "python",
   "pygments_lexer": "ipython3",
   "version": "3.10.15"
  }
 },
 "nbformat": 4,
 "nbformat_minor": 2
}
