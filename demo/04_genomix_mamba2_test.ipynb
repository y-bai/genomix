{
 "cells": [
  {
   "cell_type": "markdown",
   "metadata": {},
   "source": [
    "# GenoMix Mamba 2"
   ]
  },
  {
   "cell_type": "code",
   "execution_count": null,
   "metadata": {},
   "outputs": [],
   "source": [
    "import sys\n",
    "\n",
    "from transformers import Mamba2Config\n",
    "import warnings\n",
    "warnings.simplefilter(action='ignore', category=FutureWarning)\n",
    "\n",
    "sys.path.append('..')\n",
    "\n",
    "from genomix.models.genomix_modeling.genomix_vanilla_mamba2 import GenomixMamba2\n"
   ]
  },
  {
   "cell_type": "code",
   "execution_count": 2,
   "metadata": {},
   "outputs": [
    {
     "name": "stdout",
     "output_type": "stream",
     "text": [
      "Mamba2Config {\n",
      "  \"bos_token_id\": 0,\n",
      "  \"chunk_size\": 256,\n",
      "  \"conv_kernel\": 4,\n",
      "  \"d_model\": 512,\n",
      "  \"eos_token_id\": 2,\n",
      "  \"expand\": 2,\n",
      "  \"head_dim\": 64,\n",
      "  \"hidden_act\": \"silu\",\n",
      "  \"hidden_size\": 512,\n",
      "  \"initializer_range\": 0.1,\n",
      "  \"intermediate_size\": 512,\n",
      "  \"layer_norm_epsilon\": 1e-05,\n",
      "  \"model_type\": \"mamba2\",\n",
      "  \"n_groups\": 8,\n",
      "  \"n_head\": 8,\n",
      "  \"n_layer\": 24,\n",
      "  \"num_heads\": 8,\n",
      "  \"num_hidden_layers\": 64,\n",
      "  \"num_layers\": 24,\n",
      "  \"pad_token_id\": 1,\n",
      "  \"rescale_prenorm_residual\": false,\n",
      "  \"residual_in_fp32\": true,\n",
      "  \"rms_norm\": true,\n",
      "  \"state_size\": 128,\n",
      "  \"tie_word_embeddings\": true,\n",
      "  \"time_step_floor\": 0.0001,\n",
      "  \"time_step_limit\": [\n",
      "    0.0,\n",
      "    Infinity\n",
      "  ],\n",
      "  \"time_step_max\": 0.1,\n",
      "  \"time_step_min\": 0.001,\n",
      "  \"time_step_rank\": 256,\n",
      "  \"transformers_version\": \"4.46.3\",\n",
      "  \"use_bias\": false,\n",
      "  \"use_cache\": true,\n",
      "  \"use_conv_bias\": true,\n",
      "  \"vocab_size\": 16\n",
      "}\n",
      "\n"
     ]
    }
   ],
   "source": [
    "config = Mamba2Config()\n",
    "config.d_model = 512\n",
    "config.n_head = 8\n",
    "config.n_layer = 24\n",
    "config.vocab_size=16\n",
    "config.hidden_size=512\n",
    "config.intermediate_size=512\n",
    "config.num_heads=8\n",
    "config.num_layers=24\n",
    "config.tie_word_embeddings=True\n",
    "\n",
    "print(config)"
   ]
  },
  {
   "cell_type": "code",
   "execution_count": 3,
   "metadata": {},
   "outputs": [],
   "source": [
    "model = GenomixMamba2(config)\n",
    "\n"
   ]
  },
  {
   "cell_type": "code",
   "execution_count": 4,
   "metadata": {},
   "outputs": [
    {
     "data": {
      "text/plain": [
       "GenomixMamba2(\n",
       "  (model): Mamba2ForCausalLM(\n",
       "    (backbone): Mamba2Model(\n",
       "      (embeddings): Embedding(16, 512)\n",
       "      (layers): ModuleList(\n",
       "        (0-63): 64 x Mamba2Block(\n",
       "          (norm): Mamba2RMSNorm()\n",
       "          (mixer): Mamba2Mixer(\n",
       "            (act): SiLU()\n",
       "            (conv1d): Conv1d(3072, 3072, kernel_size=(4,), stride=(1,), padding=(3,), groups=3072)\n",
       "            (in_proj): Linear(in_features=512, out_features=4104, bias=False)\n",
       "            (norm): MambaRMSNormGated()\n",
       "            (out_proj): Linear(in_features=1024, out_features=512, bias=False)\n",
       "          )\n",
       "        )\n",
       "      )\n",
       "      (norm_f): Mamba2RMSNorm()\n",
       "    )\n",
       "    (lm_head): Linear(in_features=512, out_features=16, bias=False)\n",
       "  )\n",
       ")"
      ]
     },
     "execution_count": 4,
     "metadata": {},
     "output_type": "execute_result"
    }
   ],
   "source": [
    "model"
   ]
  },
  {
   "cell_type": "code",
   "execution_count": 5,
   "metadata": {},
   "outputs": [
    {
     "name": "stdout",
     "output_type": "stream",
     "text": [
      "True\n"
     ]
    }
   ],
   "source": [
    "input_id1 = id(model.model.backbone.embeddings.weight)\n",
    "input_id2 = id(model.model.lm_head.weight)\n",
    "\n",
    "print(input_id1==input_id2)"
   ]
  },
  {
   "cell_type": "markdown",
   "metadata": {},
   "source": [
    "**NOTE**: if `safe_serialization=True` (default setting) in `model.save_pretrained`,\n",
    "There will raise error:\n",
    "\n",
    "```python\n",
    "RuntimeError: The weights trying to be saved contained shared tensors [{'model.lm_head.weight', 'model.backbone.embeddings.weight'}] that are mismatching the transformers base configuration. Try saving using `safe_serialization=False` or remove this tensor sharing.\n",
    "```"
   ]
  },
  {
   "cell_type": "code",
   "execution_count": 6,
   "metadata": {},
   "outputs": [
    {
     "name": "stdout",
     "output_type": "stream",
     "text": [
      "<class 'transformers.models.mamba2.configuration_mamba2.Mamba2Config'>\n"
     ]
    }
   ],
   "source": [
    "\n",
    "print(GenomixMamba2.config_class)\n",
    "# model.save_pretrained('/home/share/huadjyin/home/baiyong01/projects/genomix/tmp/models', safe_serialization=False)"
   ]
  },
  {
   "cell_type": "code",
   "execution_count": 7,
   "metadata": {},
   "outputs": [],
   "source": [
    "config = Mamba2Config.from_pretrained('/home/share/huadjyin/home/baiyong01/projects/genomix/tmp/models/config.json')"
   ]
  },
  {
   "cell_type": "code",
   "execution_count": 8,
   "metadata": {},
   "outputs": [
    {
     "data": {
      "text/plain": [
       "Mamba2Config {\n",
       "  \"_name_or_path\": \"genomix_mamba2\",\n",
       "  \"architectures\": [\n",
       "    \"GenomixMamba2\"\n",
       "  ],\n",
       "  \"bos_token_id\": 0,\n",
       "  \"chunk_size\": 256,\n",
       "  \"conv_kernel\": 4,\n",
       "  \"d_model\": 512,\n",
       "  \"eos_token_id\": 2,\n",
       "  \"expand\": 2,\n",
       "  \"head_dim\": 64,\n",
       "  \"hidden_act\": \"silu\",\n",
       "  \"hidden_size\": 512,\n",
       "  \"initializer_range\": 0.1,\n",
       "  \"intermediate_size\": 512,\n",
       "  \"layer_norm_epsilon\": 1e-05,\n",
       "  \"model_type\": \"mamba2\",\n",
       "  \"n_groups\": 8,\n",
       "  \"n_head\": 8,\n",
       "  \"n_layer\": 24,\n",
       "  \"num_heads\": 8,\n",
       "  \"num_hidden_layers\": 64,\n",
       "  \"num_layers\": 24,\n",
       "  \"pad_token_id\": 1,\n",
       "  \"rescale_prenorm_residual\": false,\n",
       "  \"residual_in_fp32\": true,\n",
       "  \"rms_norm\": true,\n",
       "  \"state_size\": 128,\n",
       "  \"tie_word_embeddings\": true,\n",
       "  \"time_step_floor\": 0.0001,\n",
       "  \"time_step_limit\": [\n",
       "    0.0,\n",
       "    Infinity\n",
       "  ],\n",
       "  \"time_step_max\": 0.1,\n",
       "  \"time_step_min\": 0.001,\n",
       "  \"time_step_rank\": 256,\n",
       "  \"torch_dtype\": \"float32\",\n",
       "  \"transformers_version\": \"4.46.3\",\n",
       "  \"use_bias\": false,\n",
       "  \"use_cache\": true,\n",
       "  \"use_conv_bias\": true,\n",
       "  \"vocab_size\": 16\n",
       "}"
      ]
     },
     "execution_count": 8,
     "metadata": {},
     "output_type": "execute_result"
    }
   ],
   "source": [
    "config"
   ]
  },
  {
   "cell_type": "code",
   "execution_count": 9,
   "metadata": {},
   "outputs": [],
   "source": [
    "model = GenomixMamba2.from_pretrained(\n",
    "    '/home/share/huadjyin/home/baiyong01/projects/genomix/tmp/models',local_files_only=True)"
   ]
  },
  {
   "cell_type": "code",
   "execution_count": 9,
   "metadata": {},
   "outputs": [
    {
     "data": {
      "text/plain": [
       "GenomixMamba2(\n",
       "  (model): Mamba2ForCausalLM(\n",
       "    (backbone): Mamba2Model(\n",
       "      (embeddings): Embedding(16, 512)\n",
       "      (layers): ModuleList(\n",
       "        (0-63): 64 x Mamba2Block(\n",
       "          (norm): Mamba2RMSNorm()\n",
       "          (mixer): Mamba2Mixer(\n",
       "            (act): SiLU()\n",
       "            (conv1d): Conv1d(3072, 3072, kernel_size=(4,), stride=(1,), padding=(3,), groups=3072)\n",
       "            (in_proj): Linear(in_features=512, out_features=4104, bias=False)\n",
       "            (norm): MambaRMSNormGated()\n",
       "            (out_proj): Linear(in_features=1024, out_features=512, bias=False)\n",
       "          )\n",
       "        )\n",
       "      )\n",
       "      (norm_f): Mamba2RMSNorm()\n",
       "    )\n",
       "    (lm_head): Linear(in_features=512, out_features=16, bias=False)\n",
       "  )\n",
       ")"
      ]
     },
     "execution_count": 9,
     "metadata": {},
     "output_type": "execute_result"
    }
   ],
   "source": [
    "model"
   ]
  },
  {
   "cell_type": "code",
   "execution_count": 13,
   "metadata": {},
   "outputs": [
    {
     "data": {
      "text/plain": [
       "torch.Size([16, 512])"
      ]
     },
     "execution_count": 13,
     "metadata": {},
     "output_type": "execute_result"
    }
   ],
   "source": [
    "model.model.backbone.embeddings.weight.shape"
   ]
  },
  {
   "cell_type": "code",
   "execution_count": 17,
   "metadata": {},
   "outputs": [
    {
     "data": {
      "text/plain": [
       "'model.backbone'"
      ]
     },
     "execution_count": 17,
     "metadata": {},
     "output_type": "execute_result"
    }
   ],
   "source": [
    "model.base_model_prefix"
   ]
  },
  {
   "cell_type": "code",
   "execution_count": 21,
   "metadata": {},
   "outputs": [
    {
     "data": {
      "text/plain": [
       "JetMoeConfig {\n",
       "  \"activation_function\": \"silu\",\n",
       "  \"attention_dropout\": 0.0,\n",
       "  \"aux_loss_coef\": 0.01,\n",
       "  \"bos_token_id\": 1,\n",
       "  \"eos_token_id\": 2,\n",
       "  \"hidden_size\": 2048,\n",
       "  \"initializer_range\": 0.01,\n",
       "  \"intermediate_size\": 5632,\n",
       "  \"kv_channels\": 128,\n",
       "  \"max_position_embeddings\": 4096,\n",
       "  \"model_type\": \"jetmoe\",\n",
       "  \"num_attention_heads\": 32,\n",
       "  \"num_experts_per_tok\": 2,\n",
       "  \"num_hidden_layers\": 12,\n",
       "  \"num_key_value_heads\": 16,\n",
       "  \"num_local_experts\": 8,\n",
       "  \"output_router_logits\": false,\n",
       "  \"rms_norm_eps\": 1e-06,\n",
       "  \"rope_theta\": 10000.0,\n",
       "  \"transformers_version\": \"4.46.3\",\n",
       "  \"use_cache\": true,\n",
       "  \"vocab_size\": 32000\n",
       "}"
      ]
     },
     "execution_count": 21,
     "metadata": {},
     "output_type": "execute_result"
    }
   ],
   "source": [
    "from transformers import JetMoeConfig\n",
    "\n",
    "jet_config = JetMoeConfig()\n",
    "jet_config"
   ]
  },
  {
   "cell_type": "code",
   "execution_count": null,
   "metadata": {},
   "outputs": [],
   "source": []
  }
 ],
 "metadata": {
  "kernelspec": {
   "display_name": "py10",
   "language": "python",
   "name": "python3"
  },
  "language_info": {
   "codemirror_mode": {
    "name": "ipython",
    "version": 3
   },
   "file_extension": ".py",
   "mimetype": "text/x-python",
   "name": "python",
   "nbconvert_exporter": "python",
   "pygments_lexer": "ipython3",
   "version": "3.10.15"
  }
 },
 "nbformat": 4,
 "nbformat_minor": 2
}
