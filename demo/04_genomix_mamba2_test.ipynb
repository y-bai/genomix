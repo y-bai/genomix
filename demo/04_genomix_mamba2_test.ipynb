{
 "cells": [
  {
   "cell_type": "markdown",
   "metadata": {},
   "source": [
    "# GenoMix Mamba 2"
   ]
  },
  {
   "cell_type": "code",
   "execution_count": 2,
   "metadata": {},
   "outputs": [],
   "source": [
    "import sys\n",
    "\n",
    "from transformers import Mamba2Config\n",
    "import warnings\n",
    "warnings.simplefilter(action='ignore', category=FutureWarning)\n",
    "\n",
    "sys.path.append('..')\n",
    "\n",
    "from genomix.models.genomix_modeling.genomix_mamba2 import GenomixMamba2\n"
   ]
  },
  {
   "cell_type": "code",
   "execution_count": 15,
   "metadata": {},
   "outputs": [
    {
     "name": "stdout",
     "output_type": "stream",
     "text": [
      "Mamba2Config {\n",
      "  \"bos_token_id\": 0,\n",
      "  \"chunk_size\": 256,\n",
      "  \"conv_kernel\": 4,\n",
      "  \"d_model\": 512,\n",
      "  \"eos_token_id\": 2,\n",
      "  \"expand\": 2,\n",
      "  \"head_dim\": 64,\n",
      "  \"hidden_act\": \"silu\",\n",
      "  \"hidden_size\": 512,\n",
      "  \"initializer_range\": 0.1,\n",
      "  \"intermediate_size\": 512,\n",
      "  \"layer_norm_epsilon\": 1e-05,\n",
      "  \"model_type\": \"mamba2\",\n",
      "  \"n_groups\": 8,\n",
      "  \"n_head\": 8,\n",
      "  \"n_layer\": 24,\n",
      "  \"num_heads\": 8,\n",
      "  \"num_hidden_layers\": 64,\n",
      "  \"num_layers\": 24,\n",
      "  \"pad_token_id\": 1,\n",
      "  \"rescale_prenorm_residual\": false,\n",
      "  \"residual_in_fp32\": true,\n",
      "  \"rms_norm\": true,\n",
      "  \"state_size\": 128,\n",
      "  \"tie_word_embeddings\": true,\n",
      "  \"time_step_floor\": 0.0001,\n",
      "  \"time_step_limit\": [\n",
      "    0.0,\n",
      "    Infinity\n",
      "  ],\n",
      "  \"time_step_max\": 0.1,\n",
      "  \"time_step_min\": 0.001,\n",
      "  \"time_step_rank\": 256,\n",
      "  \"transformers_version\": \"4.46.3\",\n",
      "  \"use_bias\": false,\n",
      "  \"use_cache\": true,\n",
      "  \"use_conv_bias\": true,\n",
      "  \"vocab_size\": 16\n",
      "}\n",
      "\n"
     ]
    }
   ],
   "source": [
    "config = Mamba2Config()\n",
    "config.d_model = 512\n",
    "config.n_head = 8\n",
    "config.n_layer = 24\n",
    "config.vocab_size=16\n",
    "config.hidden_size=512\n",
    "config.intermediate_size=512\n",
    "config.num_heads=8\n",
    "config.num_layers=24\n",
    "config.tie_word_embeddings=True\n",
    "\n",
    "print(config)"
   ]
  },
  {
   "cell_type": "code",
   "execution_count": 16,
   "metadata": {},
   "outputs": [],
   "source": [
    "model = GenomixMamba2(config)"
   ]
  },
  {
   "cell_type": "code",
   "execution_count": 17,
   "metadata": {},
   "outputs": [],
   "source": [
    "from genomix.utils import model_size"
   ]
  },
  {
   "cell_type": "code",
   "execution_count": 18,
   "metadata": {},
   "outputs": [
    {
     "data": {
      "text/plain": [
       "169125888"
      ]
     },
     "execution_count": 18,
     "metadata": {},
     "output_type": "execute_result"
    }
   ],
   "source": [
    "model_size(model)"
   ]
  },
  {
   "cell_type": "code",
   "execution_count": 14,
   "metadata": {},
   "outputs": [
    {
     "data": {
      "text/plain": [
       "'model.backbone'"
      ]
     },
     "execution_count": 14,
     "metadata": {},
     "output_type": "execute_result"
    }
   ],
   "source": [
    "model.base_model_prefix"
   ]
  },
  {
   "cell_type": "code",
   "execution_count": null,
   "metadata": {},
   "outputs": [],
   "source": []
  }
 ],
 "metadata": {
  "kernelspec": {
   "display_name": "py10",
   "language": "python",
   "name": "python3"
  },
  "language_info": {
   "codemirror_mode": {
    "name": "ipython",
    "version": 3
   },
   "file_extension": ".py",
   "mimetype": "text/x-python",
   "name": "python",
   "nbconvert_exporter": "python",
   "pygments_lexer": "ipython3",
   "version": "3.10.15"
  }
 },
 "nbformat": 4,
 "nbformat_minor": 2
}
